{
 "cells": [
  {
   "cell_type": "code",
   "execution_count": 1,
   "metadata": {},
   "outputs": [],
   "source": [
    "import sys\n",
    "import socket\n",
    "from struct import *\n",
    "import zlib\n",
    "import time\n",
    "import pandas as pd\n",
    "import numpy as np"
   ]
  },
  {
   "cell_type": "code",
   "execution_count": 2,
   "metadata": {},
   "outputs": [],
   "source": [
    "def flatten_tuple(nested_tuple):\n",
    "    flat_list = []\n",
    "    for item in nested_tuple:\n",
    "        if isinstance(item, (list, tuple)):\n",
    "            flat_list.extend(flatten_tuple(item))\n",
    "        elif isinstance(item, np.ndarray):\n",
    "            flat_list.extend(item.flatten().tolist())\n",
    "        else:\n",
    "            flat_list.append(item)\n",
    "    return flat_list\n",
    "\n",
    "class ReqMsg:\n",
    "    def __init__(self, request_id=0):\n",
    "        self.msg_id = 0\n",
    "        self.request_id = request_id\n",
    "        msg_time = time.time()\n",
    "        self.time = int(msg_time)\n",
    "        self.time_ns = int((msg_time % 1) * 1e9)\n",
    "        self.data_size_bytes = 0\n",
    "        self.data_info = (0, ) * 10\n",
    "\n",
    "    def pack(self, *args):\n",
    "        b_msg = pack(\"=2B2iI10B\", *flatten_tuple(tuple(vars(self).values())))\n",
    "        if self.request_id == 1:\n",
    "            b_msg = b_msg + pack('996x') #dummy\n",
    "        elif self.request_id == 2: #velocity\n",
    "            b_msg = b_msg + pack('=2iBf2B981x', *flatten_tuple(args))\n",
    "        elif self.request_id == 3: #position\n",
    "            b_msg = b_msg + pack('=2iBf2B981x', *flatten_tuple(args))\n",
    "        elif self.request_id == 4: #velocity vectro\n",
    "            b_msg = b_msg + pack('=iB200f191x', *flatten_tuple(args))\n",
    "        elif self.request_id == 5: #position vectro\n",
    "            b_msg = b_msg + pack('=iB200f191x', *flatten_tuple(args))\n",
    "        elif self.request_id == 255:\n",
    "            b_msg = b_msg + pack('996')\n",
    "        b_msg = b_msg + pack('I', int(hex(zlib.crc32(b_msg) & 0xffffffff), base=16))\n",
    "        self.msg_id = self.msg_id + 1\n",
    "        return b_msg"
   ]
  },
  {
   "cell_type": "code",
   "execution_count": 3,
   "metadata": {},
   "outputs": [],
   "source": [
    "socket_address = ('127.0.0.1', 1551)\n",
    "\n",
    "s = socket.socket(socket.AF_INET, socket.SOCK_DGRAM, 0)\n",
    "msg = ReqMsg(1)"
   ]
  },
  {
   "cell_type": "code",
   "execution_count": 4,
   "metadata": {},
   "outputs": [],
   "source": [
    "def vec_gen(start, end, number):\n",
    "    vec = [0] * 200\n",
    "    if number > 200:\n",
    "        number = 200\n",
    "    profile = np.linspace(start, end, number)\n",
    "    for i in range(number):\n",
    "        vec[i] = profile[i]\n",
    "    return vec"
   ]
  },
  {
   "cell_type": "code",
   "execution_count": 19,
   "metadata": {},
   "outputs": [
    {
     "data": {
      "text/plain": [
       "1024"
      ]
     },
     "execution_count": 19,
     "metadata": {},
     "output_type": "execute_result"
    }
   ],
   "source": [
    "msg.request_id = 4\n",
    "num = 30\n",
    "vec = vec_gen(10, 5, num)\n",
    "\n",
    "s.sendto(msg.pack(-1, num, vec), socket_address)"
   ]
  },
  {
   "cell_type": "code",
   "execution_count": 64,
   "metadata": {},
   "outputs": [],
   "source": [
    "s.close()"
   ]
  }
 ],
 "metadata": {
  "kernelspec": {
   "display_name": "network",
   "language": "python",
   "name": "python3"
  },
  "language_info": {
   "codemirror_mode": {
    "name": "ipython",
    "version": 3
   },
   "file_extension": ".py",
   "mimetype": "text/x-python",
   "name": "python",
   "nbconvert_exporter": "python",
   "pygments_lexer": "ipython3",
   "version": "3.10.14"
  }
 },
 "nbformat": 4,
 "nbformat_minor": 2
}
